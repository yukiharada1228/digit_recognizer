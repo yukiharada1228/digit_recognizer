{
 "cells": [
  {
   "cell_type": "code",
   "execution_count": 1,
   "metadata": {},
   "outputs": [],
   "source": [
    "from dataset import MNISTDataset\n",
    "from torch.utils.data import DataLoader\n",
    "import pandas as pd\n",
    "import logging\n",
    "import sys\n",
    "\n",
    "import matplotlib.pyplot as plt\n",
    "%matplotlib inline\n",
    "\n",
    "\n",
    "logging.basicConfig(level=logging.DEBUG,\n",
    "                    stream=sys.stdout)\n"
   ]
  },
  {
   "cell_type": "code",
   "execution_count": 2,
   "metadata": {},
   "outputs": [
    {
     "name": "stdout",
     "output_type": "stream",
     "text": [
      "DEBUG:dataset:{'action': 'train', 'X.shape': (42000, 28, 28, 1), 'y.size()': torch.Size([42000])}\n",
      "DEBUG:dataset:{'action': '__getitem__', 'X.size()': torch.Size([1, 28, 28]), 'y.size()': torch.Size([])}\n"
     ]
    }
   ],
   "source": [
    "train_df = pd.read_csv('./train.csv')\n",
    "train = MNISTDataset(train_df)\n",
    "X, y = next(iter(train))\n"
   ]
  },
  {
   "cell_type": "code",
   "execution_count": 3,
   "metadata": {},
   "outputs": [
    {
     "data": {
      "text/plain": [
       "(28, 28)"
      ]
     },
     "execution_count": 3,
     "metadata": {},
     "output_type": "execute_result"
    }
   ],
   "source": [
    "# Tensorをnumpy配列に変換\n",
    "device = X.device\n",
    "X_numpy = X.cpu().detach().numpy().copy().squeeze()\n",
    "X = X.to(device)\n",
    "X_numpy.shape\n"
   ]
  },
  {
   "cell_type": "code",
   "execution_count": 4,
   "metadata": {},
   "outputs": [
    {
     "data": {
      "image/png": "[encoded data removed]",
      "text/plain": [
       "<Figure size 640x480 with 1 Axes>"
      ]
     },
     "metadata": {},
     "output_type": "display_data"
    }
   ],
   "source": [
    "logging.root.setLevel(logging.INFO)\n",
    "fig, ax = plt.subplots()\n",
    "ax.imshow(X_numpy, plt.gray())\n",
    "ax.set_axis_off()\n",
    "plt.show()\n"
   ]
  }
 ],
 "metadata": {
  "kernelspec": {
   "display_name": "digit_recognizer-GdXZLR7e",
   "language": "python",
   "name": "python3"
  },
  "language_info": {
   "codemirror_mode": {
    "name": "ipython",
    "version": 3
   },
   "file_extension": ".py",
   "mimetype": "text/x-python",
   "name": "python",
   "nbconvert_exporter": "python",
   "pygments_lexer": "ipython3",
   "version": "3.7.9"
  },
  "orig_nbformat": 4,
  "vscode": {
   "interpreter": {
    "hash": "8b7547525cf1d1b30e83cf4fa453682baebc124903b95ed3484771f4484fd998"
   }
  }
 },
 "nbformat": 4,
 "nbformat_minor": 2
}
