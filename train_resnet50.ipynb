{
 "cells": [
  {
   "cell_type": "code",
   "execution_count": 1,
   "metadata": {},
   "outputs": [],
   "source": [
    "import logging\n",
    "import sys\n",
    "\n",
    "import pandas as pd\n",
    "from sklearn.model_selection import train_test_split\n",
    "import torch\n",
    "from torch.utils.data import DataLoader\n",
    "\n",
    "from dataset import MNISTDataset\n",
    "from model import MNISTResNet50\n",
    "from utils import train, test\n",
    "\n",
    "logging.config.fileConfig(fname='train_resnet50.conf')\n",
    "logger = logging.getLogger(__name__)\n"
   ]
  },
  {
   "cell_type": "code",
   "execution_count": 2,
   "metadata": {},
   "outputs": [],
   "source": [
    "train_df = pd.read_csv('train.csv')\n",
    "train_df, val_df = train_test_split(train_df, test_size=0.2, shuffle=False)\n",
    "\n",
    "batch_size = 128\n",
    "train_loader = DataLoader(MNISTDataset(\n",
    "    train_df), batch_size=batch_size, shuffle=True)\n",
    "val_loader = DataLoader(MNISTDataset(\n",
    "    val_df), batch_size=batch_size, shuffle=False)\n"
   ]
  },
  {
   "cell_type": "code",
   "execution_count": 3,
   "metadata": {},
   "outputs": [],
   "source": [
    "device = 'cuda' if torch.cuda.is_available() else 'cpu'\n",
    "model = MNISTResNet50()\n",
    "model.to(device)\n",
    "optimizer = torch.optim.SGD(model.parameters(), lr=0.01, momentum=0.9)\n"
   ]
  },
  {
   "cell_type": "code",
   "execution_count": null,
   "metadata": {},
   "outputs": [],
   "source": [
    "epoch_num = 20\n",
    "logger.info('train_acc' + ',' + 'val_acc')\n",
    "for epoch in range(1, epoch_num + 1):\n",
    "    train(model, device, train_loader, optimizer)\n",
    "    train_error_rate = test(model, device, train_loader)\n",
    "    val_error_rate = test(model, device, val_loader)\n",
    "    logger.info(str(1 - train_error_rate) + ',' + str(1 - val_error_rate))\n",
    "torch.save(model, 'resnet50.pt')\n"
   ]
  }
 ],
 "metadata": {
  "kernelspec": {
   "display_name": "digit_recognizer-GdXZLR7e",
   "language": "python",
   "name": "python3"
  },
  "language_info": {
   "codemirror_mode": {
    "name": "ipython",
    "version": 3
   },
   "file_extension": ".py",
   "mimetype": "text/x-python",
   "name": "python",
   "nbconvert_exporter": "python",
   "pygments_lexer": "ipython3",
   "version": "3.7.9 (tags/v3.7.9:13c94747c7, Aug 17 2020, 18:58:18) [MSC v.1900 64 bit (AMD64)]"
  },
  "orig_nbformat": 4,
  "vscode": {
   "interpreter": {
    "hash": "8b7547525cf1d1b30e83cf4fa453682baebc124903b95ed3484771f4484fd998"
   }
  }
 },
 "nbformat": 4,
 "nbformat_minor": 2
}
