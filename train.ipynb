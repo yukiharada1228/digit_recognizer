{
 "cells": [
  {
   "cell_type": "code",
   "execution_count": null,
   "metadata": {},
   "outputs": [],
   "source": [
    "import os\n",
    "\n",
    "\n",
    "_logconfpath = './log.conf'\n",
    "\n",
    "logconfig = \"\"\"\n",
    "[loggers]\n",
    "keys=root\n",
    "\n",
    "[handlers]\n",
    "keys=rotatinghandler, timedrotatinghandler\n",
    "\n",
    "[formatters]\n",
    "keys=_formatter\n",
    "\n",
    "[logger_root]\n",
    "level=DEBUG\n",
    "handlers=rotatinghandler, timedrotatinghandler\n",
    "\n",
    "[handler_rotatinghandler]\n",
    "class=handlers.RotatingFileHandler\n",
    "level=DEBUG\n",
    "formatter=_formatter\n",
    "args=('./app.log', 'a', 1024*1024, 5, 'utf-8')\n",
    "\n",
    "[handler_timedrotatinghandler]\n",
    "class=handlers.TimedRotatingFileHandler\n",
    "level=ERROR\n",
    "formatter=_formatter\n",
    "args=('./rotation.log', 'S', 1024*1024, 5, 'utf-8')\n",
    "\n",
    "\n",
    "[formatter__formatter]\n",
    "format=[%(process)d-%(thread)d]-%(asctime)s-[%(filename)s:%(lineno)d]-%(levelname)s-%(message)s\n",
    "\"\"\"\n",
    "\n",
    "f = open(_logconfpath, 'w')\n",
    "f.write(logconfig)\n",
    "f.close()\n"
   ]
  },
  {
   "cell_type": "code",
   "execution_count": null,
   "metadata": {},
   "outputs": [],
   "source": [
    "import logging\n",
    "import sys\n",
    "\n",
    "import pandas as pd\n",
    "import torch\n",
    "from torch.utils.data import DataLoader\n",
    "\n",
    "from dataset import MNISTDataset\n",
    "from model import MNISTResNet\n",
    "from utils import train, test\n",
    "\n",
    "logging.config.fileConfig(fname=_logconfpath)\n",
    "logger = logging.getLogger(__name__)\n"
   ]
  },
  {
   "cell_type": "code",
   "execution_count": null,
   "metadata": {},
   "outputs": [],
   "source": [
    "train_df = pd.read_csv('./train.csv')\n",
    "test_df = pd.read_csv('./test.csv')\n",
    "\n",
    "batch_size = 128\n",
    "train_loader = DataLoader(MNISTDataset(\n",
    "    train_df), batch_size=batch_size, shuffle=True)\n",
    "test_loader = DataLoader(MNISTDataset(\n",
    "    test_df), batch_size=batch_size, shuffle=False)\n"
   ]
  },
  {
   "cell_type": "code",
   "execution_count": null,
   "metadata": {},
   "outputs": [],
   "source": [
    "device = 'cuda' if torch.cuda.is_available() else 'cpu'\n",
    "model = MNISTResNet()\n",
    "model.to(device)\n",
    "optimizer = torch.optim.SGD(model.parameters(), lr=0.01, momentum=0.9)\n"
   ]
  },
  {
   "cell_type": "code",
   "execution_count": null,
   "metadata": {},
   "outputs": [],
   "source": [
    "epoch_num = 1\n",
    "for epoch in range(1, epoch_num + 1):\n",
    "    train(model, device, train_loader, optimizer)\n",
    "    error_rate = test(model, device, train_loader)\n",
    "    logger.info({'epoch': epoch, 'acc': 1 - error_rate})\n"
   ]
  },
  {
   "cell_type": "code",
   "execution_count": null,
   "metadata": {},
   "outputs": [],
   "source": []
  }
 ],
 "metadata": {
  "kernelspec": {
   "display_name": "digit_recognizer-GdXZLR7e",
   "language": "python",
   "name": "python3"
  },
  "language_info": {
   "codemirror_mode": {
    "name": "ipython",
    "version": 3
   },
   "file_extension": ".py",
   "mimetype": "text/x-python",
   "name": "python",
   "nbconvert_exporter": "python",
   "pygments_lexer": "ipython3",
   "version": "3.7.9"
  },
  "orig_nbformat": 4,
  "vscode": {
   "interpreter": {
    "hash": "8b7547525cf1d1b30e83cf4fa453682baebc124903b95ed3484771f4484fd998"
   }
  }
 },
 "nbformat": 4,
 "nbformat_minor": 2
}
